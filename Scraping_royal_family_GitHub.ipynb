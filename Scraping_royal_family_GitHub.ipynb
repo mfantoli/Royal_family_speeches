{
 "cells": [
  {
   "cell_type": "code",
   "execution_count": 12,
   "metadata": {},
   "outputs": [
    {
     "name": "stdout",
     "output_type": "stream",
     "text": [
      "Requirement already satisfied: beautifulsoup4 in c:\\users\\u0140177\\anaconda3\\lib\\site-packages (4.9.1)\n",
      "Requirement already satisfied: soupsieve>1.2 in c:\\users\\u0140177\\anaconda3\\lib\\site-packages (from beautifulsoup4) (2.0.1)\n",
      "Note: you may need to restart the kernel to use updated packages.\n"
     ]
    }
   ],
   "source": [
    "#for a general introduction to scraping, please see https://www.digitalocean.com/community/tutorials/how-to-scrape-web-pages-with-beautiful-soup-and-python-3\n",
    "\n",
    "pip install beautifulsoup4"
   ]
  },
  {
   "cell_type": "code",
   "execution_count": 28,
   "metadata": {},
   "outputs": [],
   "source": [
    "import requests\n",
    "import csv\n",
    "from bs4 import BeautifulSoup\n",
    "import pandas as pd\n",
    "import re\n",
    "import os"
   ]
  },
  {
   "cell_type": "code",
   "execution_count": 29,
   "metadata": {},
   "outputs": [],
   "source": [
    "page = requests.get('https://www.royal.uk/speeches')"
   ]
  },
  {
   "cell_type": "code",
   "execution_count": 30,
   "metadata": {},
   "outputs": [],
   "source": [
    "# Create a BeautifulSoup object\n",
    "soup_main = BeautifulSoup(page.text, 'html.parser')"
   ]
  },
  {
   "cell_type": "code",
   "execution_count": 31,
   "metadata": {},
   "outputs": [
    {
     "data": {
      "text/plain": [
       "('All Members of the Royal Family', '')"
      ]
     },
     "execution_count": 31,
     "metadata": {},
     "output_type": "execute_result"
    }
   ],
   "source": [
    "#get the list of members of the royal house\n",
    "list_of_members=[]\n",
    "list_complete=soup_main.find(class_=\"form-item form-type-select form-item-mrf\").find_all('option')\n",
    "for i in list_complete:\n",
    "    list_of_members.append((i.text, i['value']))\n",
    "list_of_members.pop(0)"
   ]
  },
  {
   "cell_type": "code",
   "execution_count": 32,
   "metadata": {},
   "outputs": [],
   "source": [
    "for i in list_of_members:\n",
    "    name=re.sub(' ', '', i[0])\n",
    "    if not os.path.exists('C:/Users/u0140177/OneDrive - KU Leuven/DH_commons_presentation/speeches/'+name):\n",
    "        os.makedirs('C:/Users/u0140177/OneDrive - KU Leuven/DH_commons_presentation/speeches/'+name)\n",
    "    page=requests.get('https://www.royal.uk/speeches?text=&mrf='+i[1]+'&date[min][date]=1%2F01%2F1990&date[max][date]=15%2F04%2F2021&id=')\n",
    "    soup=BeautifulSoup(page.text, 'html.parser')\n",
    "    if soup.find(class_=\"pager-last last\") is not None:\n",
    "        nb_last_page=soup.find(class_=\"pager-last last\").find('a').get('href').split('page=')[1]\n",
    "    else:\n",
    "        nb_last_page=0\n",
    "    #working with the first page\n",
    "    list_of_links_with_date=[]\n",
    "    link_infos= soup.find_all(class_='tbm-fields-container views-fieldset')\n",
    "    for item in link_infos:\n",
    "        link_ref=item.find('a')\n",
    "        link = 'https://www.royal.uk' + link_ref.get('href')\n",
    "        date=item.find(class_=\"date-display-single\")\n",
    "        year=date.text.split()[-1]\n",
    "        list_of_links_with_date.append((link, year))\n",
    "    #if there are toher results pages, I access them\n",
    "    if nb_last_page!=0:\n",
    "        list_of_pages=[]\n",
    "        for j in range(1, int(nb_last_page)+1):\n",
    "            list_of_pages.append('https://www.royal.uk/speeches?text=&mrf='+i[1]+'&date[min][date]=01/01/1990&date[max][date]=15/04/2021&id=&page='+str(j)) \n",
    "        for m in list_of_pages:\n",
    "            page = requests.get(m)\n",
    "            soup = BeautifulSoup(page.text, 'html.parser')\n",
    "            link_infos= soup.find_all(class_='tbm-fields-container views-fieldset')\n",
    "            for item in link_infos:\n",
    "                link_ref=item.find('a')\n",
    "                link = 'https://www.royal.uk' + link_ref.get('href')\n",
    "                date=item.find(class_=\"date-display-single\")\n",
    "                year=date.text.split()[-1]\n",
    "                list_of_links_with_date.append((link, year))\n",
    "    #I print the list of links of the articles+year for every member of the Royal family\n",
    "    file = open('C:/Users/u0140177/OneDrive - KU Leuven/DH_commons_presentation/speeches/'+name+'/'+name+'links_and_dates.csv', 'w')\n",
    "    f=csv.writer(file)\n",
    "    for l in range(len(list_of_links_with_date)):\n",
    "        f.writerow([list_of_links_with_date[l][0], list_of_links_with_date[l][1]])\n",
    "    file.close()          \n",
    "        \n"
   ]
  },
  {
   "cell_type": "code",
   "execution_count": 33,
   "metadata": {},
   "outputs": [],
   "source": [
    "#using the list of links created in the previous cell, I download the speeches\n",
    "for i in list_of_members:\n",
    "    name=re.sub(' ', '', i[0])\n",
    "    file_links='C:/Users/u0140177/OneDrive - KU Leuven/DH_commons_presentation/speeches/'+name+'/'+name+'links_and_dates.csv'\n",
    "    if os.stat(file_links).st_size != 0:\n",
    "        df=pd.read_csv(file_links, names=[\"link\", \"year\"])\n",
    "        for index, row in df.iterrows():\n",
    "            title='x'\n",
    "            content='x'\n",
    "            page = requests.get(row[\"link\"])\n",
    "            soup = BeautifulSoup(page.text, 'html.parser')\n",
    "            last_links = soup.find(class_=\"tbm-share-links share\")\n",
    "            last_links.decompose()\n",
    "            if soup.find(class_=\"container article\").find('h1') is not None:\n",
    "                title=soup.find(class_=\"container article\").find('h1').text\n",
    "            if soup.find(class_=\"block block-system\").find(class_=\"content\") is not None:\n",
    "                content= soup.find(class_=\"block block-system\").find(class_=\"content\").find_all('p')\n",
    "                content_text=''\n",
    "                for j in content[:-1]:\n",
    "                    content_text+=j.text\n",
    "            f=open('C:/Users/u0140177/OneDrive - KU Leuven/DH_commons_presentation/speeches/'+name+'/'+name+'_'+str(row[\"year\"])+'_'+title[0:20]+'.txt', 'w', encoding=\"utf-8\")\n",
    "            f.write(title+\"\\n\"+content_text)\n",
    "            f.close()\n"
   ]
  },
  {
   "cell_type": "code",
   "execution_count": null,
   "metadata": {},
   "outputs": [],
   "source": []
  }
 ],
 "metadata": {
  "kernelspec": {
   "display_name": "Python 3",
   "language": "python",
   "name": "python3"
  },
  "language_info": {
   "codemirror_mode": {
    "name": "ipython",
    "version": 3
   },
   "file_extension": ".py",
   "mimetype": "text/x-python",
   "name": "python",
   "nbconvert_exporter": "python",
   "pygments_lexer": "ipython3",
   "version": "3.8.3"
  }
 },
 "nbformat": 4,
 "nbformat_minor": 4
}
